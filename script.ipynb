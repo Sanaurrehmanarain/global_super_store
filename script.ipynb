{
 "cells": [
  {
   "cell_type": "markdown",
   "id": "e5198d1c",
   "metadata": {},
   "source": [
    "# Setup & Load the Dataset"
   ]
  },
  {
   "cell_type": "code",
   "execution_count": null,
   "id": "a37a44db",
   "metadata": {
    "vscode": {
     "languageId": "r"
    }
   },
   "outputs": [],
   "source": [
    "# 📦Install required packages\n",
    "install.packages(\"tidyverse\")\n",
    "install.packages(\"lubridate\")\n",
    "install.packages(\"data.table\")"
   ]
  },
  {
   "cell_type": "code",
   "execution_count": null,
   "id": "b47dd4d0",
   "metadata": {
    "vscode": {
     "languageId": "r"
    }
   },
   "outputs": [],
   "source": [
    "install.packages(\"timechange\")"
   ]
  },
  {
   "cell_type": "code",
   "execution_count": null,
   "id": "039a6190",
   "metadata": {
    "vscode": {
     "languageId": "r"
    }
   },
   "outputs": [],
   "source": [
    "# 📥Load Libraries and Import Dataset\n",
    "library(tidyverse)\n",
    "library(lubridate)\n",
    "library(dplyr)\n",
    "library(data.table)\n",
    "library(ggplot2)\n",
    "library(scales)"
   ]
  },
  {
   "cell_type": "markdown",
   "id": "94b8233a",
   "metadata": {},
   "source": [
    "### a. Load the dataset"
   ]
  },
  {
   "cell_type": "code",
   "execution_count": 2,
   "id": "2f2cf035",
   "metadata": {
    "vscode": {
     "languageId": "r"
    }
   },
   "outputs": [],
   "source": [
    "gsd <- fread(\"Global Superstore.csv\", encoding = \"UTF-8\")"
   ]
  },
  {
   "cell_type": "markdown",
   "id": "fc11f6f7",
   "metadata": {},
   "source": [
    "# 1. Dataset Exploration and Cleaning"
   ]
  },
  {
   "cell_type": "markdown",
   "id": "5388595b",
   "metadata": {},
   "source": [
    "### b.Display the first 12 rows"
   ]
  },
  {
   "cell_type": "code",
   "execution_count": 3,
   "id": "ee9fe724",
   "metadata": {
    "vscode": {
     "languageId": "r"
    }
   },
   "outputs": [
    {
     "data": {
      "text/html": [
       "<table class=\"dataframe\">\n",
       "<caption>A data.table: 12 × 24</caption>\n",
       "<thead>\n",
       "\t<tr><th scope=col>Row ID</th><th scope=col>Order ID</th><th scope=col>Order Date</th><th scope=col>Ship Date</th><th scope=col>Ship Mode</th><th scope=col>Customer ID</th><th scope=col>Customer Name</th><th scope=col>Segment</th><th scope=col>City</th><th scope=col>State</th><th scope=col>⋯</th><th scope=col>Product ID</th><th scope=col>Category</th><th scope=col>Sub-Category</th><th scope=col>Product Name</th><th scope=col>Sales</th><th scope=col>Quantity</th><th scope=col>Discount</th><th scope=col>Profit</th><th scope=col>Shipping Cost</th><th scope=col>Order Priority</th></tr>\n",
       "\t<tr><th scope=col>&lt;int&gt;</th><th scope=col>&lt;chr&gt;</th><th scope=col>&lt;chr&gt;</th><th scope=col>&lt;chr&gt;</th><th scope=col>&lt;chr&gt;</th><th scope=col>&lt;chr&gt;</th><th scope=col>&lt;chr&gt;</th><th scope=col>&lt;chr&gt;</th><th scope=col>&lt;chr&gt;</th><th scope=col>&lt;chr&gt;</th><th scope=col>⋯</th><th scope=col>&lt;chr&gt;</th><th scope=col>&lt;chr&gt;</th><th scope=col>&lt;chr&gt;</th><th scope=col>&lt;chr&gt;</th><th scope=col>&lt;dbl&gt;</th><th scope=col>&lt;int&gt;</th><th scope=col>&lt;dbl&gt;</th><th scope=col>&lt;dbl&gt;</th><th scope=col>&lt;dbl&gt;</th><th scope=col>&lt;chr&gt;</th></tr>\n",
       "</thead>\n",
       "<tbody>\n",
       "\t<tr><td> 1</td><td>MX-2014-143658</td><td>10/2/2014 </td><td>10/6/2014 </td><td>Standard Class</td><td>SC-20575</td><td>Sonia Cooley  </td><td>Consumer</td><td>Mexico City  </td><td>Distrito Federal</td><td>⋯</td><td>OFF-LA-10002782</td><td>Office Supplies</td><td>Labels     </td><td>Hon File Folder Labels, Adjustable       </td><td> 13.08</td><td>3</td><td>0</td><td>  4.56</td><td> 1.03</td><td>Medium</td></tr>\n",
       "\t<tr><td> 2</td><td>MX-2012-155047</td><td>10/15/2012</td><td>10/20/2012</td><td>Standard Class</td><td>KW-16570</td><td>Kelly Williams</td><td>Consumer</td><td>Dos Quebradas</td><td>Risaralda       </td><td>⋯</td><td>FUR-FU-10004015</td><td>Furniture      </td><td>Furnishings</td><td>Tenex Clock, Durable                     </td><td>252.16</td><td>8</td><td>0</td><td> 90.72</td><td>13.45</td><td>Medium</td></tr>\n",
       "\t<tr><td> 3</td><td>MX-2012-155047</td><td>10/15/2012</td><td>10/20/2012</td><td>Standard Class</td><td>KW-16570</td><td>Kelly Williams</td><td>Consumer</td><td>Dos Quebradas</td><td>Risaralda       </td><td>⋯</td><td>FUR-BO-10002352</td><td>Furniture      </td><td>Bookcases  </td><td>Ikea 3-Shelf Cabinet, Mobile             </td><td>193.28</td><td>2</td><td>0</td><td> 54.08</td><td> 9.63</td><td>Medium</td></tr>\n",
       "\t<tr><td> 4</td><td>MX-2012-155047</td><td>10/15/2012</td><td>10/20/2012</td><td>Standard Class</td><td>KW-16570</td><td>Kelly Williams</td><td>Consumer</td><td>Dos Quebradas</td><td>Risaralda       </td><td>⋯</td><td>OFF-BI-10004428</td><td>Office Supplies</td><td>Binders    </td><td>Cardinal Binder, Clear                   </td><td> 35.44</td><td>4</td><td>0</td><td>  4.96</td><td> 1.37</td><td>Medium</td></tr>\n",
       "\t<tr><td> 5</td><td>MX-2012-155047</td><td>10/15/2012</td><td>10/20/2012</td><td>Standard Class</td><td>KW-16570</td><td>Kelly Williams</td><td>Consumer</td><td>Dos Quebradas</td><td>Risaralda       </td><td>⋯</td><td>OFF-AR-10004594</td><td>Office Supplies</td><td>Art        </td><td>Sanford Canvas, Water Color              </td><td> 71.60</td><td>2</td><td>0</td><td> 11.44</td><td> 3.79</td><td>Medium</td></tr>\n",
       "\t<tr><td> 6</td><td>MX-2012-155047</td><td>10/15/2012</td><td>10/20/2012</td><td>Standard Class</td><td>KW-16570</td><td>Kelly Williams</td><td>Consumer</td><td>Dos Quebradas</td><td>Risaralda       </td><td>⋯</td><td>OFF-EN-10001375</td><td>Office Supplies</td><td>Envelopes  </td><td>GlobeWeis Mailers, with clear poly window</td><td> 56.12</td><td>2</td><td>0</td><td> 21.32</td><td> 4.72</td><td>Medium</td></tr>\n",
       "\t<tr><td> 7</td><td>MX-2013-134096</td><td>9/27/2013 </td><td>10/1/2013 </td><td>Standard Class</td><td>DP-13000</td><td>Darren Powers </td><td>Consumer</td><td>São Paulo    </td><td>São Paulo       </td><td>⋯</td><td>OFF-EN-10001375</td><td>Office Supplies</td><td>Envelopes  </td><td>GlobeWeis Mailers, with clear poly window</td><td> 56.12</td><td>2</td><td>0</td><td> 21.32</td><td> 4.11</td><td>Medium</td></tr>\n",
       "\t<tr><td> 8</td><td>MX-2013-134096</td><td>9/27/2013 </td><td>10/1/2013 </td><td>Standard Class</td><td>DP-13000</td><td>Darren Powers </td><td>Consumer</td><td>São Paulo    </td><td>São Paulo       </td><td>⋯</td><td>TEC-MA-10004956</td><td>Technology     </td><td>Machines   </td><td>Konica Card Printer, Red                 </td><td>344.64</td><td>3</td><td>0</td><td>165.42</td><td>26.20</td><td>Medium</td></tr>\n",
       "\t<tr><td> 9</td><td>MX-2013-134096</td><td>9/27/2013 </td><td>10/1/2013 </td><td>Standard Class</td><td>DP-13000</td><td>Darren Powers </td><td>Consumer</td><td>São Paulo    </td><td>São Paulo       </td><td>⋯</td><td>OFF-SU-10003474</td><td>Office Supplies</td><td>Supplies   </td><td>Elite Box Cutter, Easy Grip              </td><td> 97.36</td><td>4</td><td>0</td><td> 19.44</td><td> 6.86</td><td>Medium</td></tr>\n",
       "\t<tr><td>10</td><td>MX-2013-134096</td><td>9/27/2013 </td><td>10/1/2013 </td><td>Standard Class</td><td>DP-13000</td><td>Darren Powers </td><td>Consumer</td><td>São Paulo    </td><td>São Paulo       </td><td>⋯</td><td>TEC-AC-10001830</td><td>Technology     </td><td>Accessories</td><td>Enermax Router, Erganomic                </td><td>341.52</td><td>2</td><td>0</td><td> 13.64</td><td>17.34</td><td>Medium</td></tr>\n",
       "\t<tr><td>11</td><td>MX-2013-134096</td><td>9/27/2013 </td><td>10/1/2013 </td><td>Standard Class</td><td>DP-13000</td><td>Darren Powers </td><td>Consumer</td><td>São Paulo    </td><td>São Paulo       </td><td>⋯</td><td>OFF-BI-10002075</td><td>Office Supplies</td><td>Binders    </td><td>Wilson Jones Hole Reinforcements, Durable</td><td> 12.06</td><td>3</td><td>0</td><td>  3.48</td><td> 1.13</td><td>Medium</td></tr>\n",
       "\t<tr><td>12</td><td>MX-2013-156335</td><td>3/5/2013  </td><td>3/12/2013 </td><td>Standard Class</td><td>TB-21250</td><td>Tim Brockman  </td><td>Consumer</td><td>Managua      </td><td>Managua         </td><td>⋯</td><td>OFF-FA-10002526</td><td>Office Supplies</td><td>Fasteners  </td><td>Accos Staples, 12 Pack                   </td><td> 20.76</td><td>3</td><td>0</td><td>  9.54</td><td> 0.65</td><td>Medium</td></tr>\n",
       "</tbody>\n",
       "</table>\n"
      ],
      "text/latex": [
       "A data.table: 12 × 24\n",
       "\\begin{tabular}{lllllllllllllllllllll}\n",
       " Row ID & Order ID & Order Date & Ship Date & Ship Mode & Customer ID & Customer Name & Segment & City & State & ⋯ & Product ID & Category & Sub-Category & Product Name & Sales & Quantity & Discount & Profit & Shipping Cost & Order Priority\\\\\n",
       " <int> & <chr> & <chr> & <chr> & <chr> & <chr> & <chr> & <chr> & <chr> & <chr> & ⋯ & <chr> & <chr> & <chr> & <chr> & <dbl> & <int> & <dbl> & <dbl> & <dbl> & <chr>\\\\\n",
       "\\hline\n",
       "\t  1 & MX-2014-143658 & 10/2/2014  & 10/6/2014  & Standard Class & SC-20575 & Sonia Cooley   & Consumer & Mexico City   & Distrito Federal & ⋯ & OFF-LA-10002782 & Office Supplies & Labels      & Hon File Folder Labels, Adjustable        &  13.08 & 3 & 0 &   4.56 &  1.03 & Medium\\\\\n",
       "\t  2 & MX-2012-155047 & 10/15/2012 & 10/20/2012 & Standard Class & KW-16570 & Kelly Williams & Consumer & Dos Quebradas & Risaralda        & ⋯ & FUR-FU-10004015 & Furniture       & Furnishings & Tenex Clock, Durable                      & 252.16 & 8 & 0 &  90.72 & 13.45 & Medium\\\\\n",
       "\t  3 & MX-2012-155047 & 10/15/2012 & 10/20/2012 & Standard Class & KW-16570 & Kelly Williams & Consumer & Dos Quebradas & Risaralda        & ⋯ & FUR-BO-10002352 & Furniture       & Bookcases   & Ikea 3-Shelf Cabinet, Mobile              & 193.28 & 2 & 0 &  54.08 &  9.63 & Medium\\\\\n",
       "\t  4 & MX-2012-155047 & 10/15/2012 & 10/20/2012 & Standard Class & KW-16570 & Kelly Williams & Consumer & Dos Quebradas & Risaralda        & ⋯ & OFF-BI-10004428 & Office Supplies & Binders     & Cardinal Binder, Clear                    &  35.44 & 4 & 0 &   4.96 &  1.37 & Medium\\\\\n",
       "\t  5 & MX-2012-155047 & 10/15/2012 & 10/20/2012 & Standard Class & KW-16570 & Kelly Williams & Consumer & Dos Quebradas & Risaralda        & ⋯ & OFF-AR-10004594 & Office Supplies & Art         & Sanford Canvas, Water Color               &  71.60 & 2 & 0 &  11.44 &  3.79 & Medium\\\\\n",
       "\t  6 & MX-2012-155047 & 10/15/2012 & 10/20/2012 & Standard Class & KW-16570 & Kelly Williams & Consumer & Dos Quebradas & Risaralda        & ⋯ & OFF-EN-10001375 & Office Supplies & Envelopes   & GlobeWeis Mailers, with clear poly window &  56.12 & 2 & 0 &  21.32 &  4.72 & Medium\\\\\n",
       "\t  7 & MX-2013-134096 & 9/27/2013  & 10/1/2013  & Standard Class & DP-13000 & Darren Powers  & Consumer & São Paulo     & São Paulo        & ⋯ & OFF-EN-10001375 & Office Supplies & Envelopes   & GlobeWeis Mailers, with clear poly window &  56.12 & 2 & 0 &  21.32 &  4.11 & Medium\\\\\n",
       "\t  8 & MX-2013-134096 & 9/27/2013  & 10/1/2013  & Standard Class & DP-13000 & Darren Powers  & Consumer & São Paulo     & São Paulo        & ⋯ & TEC-MA-10004956 & Technology      & Machines    & Konica Card Printer, Red                  & 344.64 & 3 & 0 & 165.42 & 26.20 & Medium\\\\\n",
       "\t  9 & MX-2013-134096 & 9/27/2013  & 10/1/2013  & Standard Class & DP-13000 & Darren Powers  & Consumer & São Paulo     & São Paulo        & ⋯ & OFF-SU-10003474 & Office Supplies & Supplies    & Elite Box Cutter, Easy Grip               &  97.36 & 4 & 0 &  19.44 &  6.86 & Medium\\\\\n",
       "\t 10 & MX-2013-134096 & 9/27/2013  & 10/1/2013  & Standard Class & DP-13000 & Darren Powers  & Consumer & São Paulo     & São Paulo        & ⋯ & TEC-AC-10001830 & Technology      & Accessories & Enermax Router, Erganomic                 & 341.52 & 2 & 0 &  13.64 & 17.34 & Medium\\\\\n",
       "\t 11 & MX-2013-134096 & 9/27/2013  & 10/1/2013  & Standard Class & DP-13000 & Darren Powers  & Consumer & São Paulo     & São Paulo        & ⋯ & OFF-BI-10002075 & Office Supplies & Binders     & Wilson Jones Hole Reinforcements, Durable &  12.06 & 3 & 0 &   3.48 &  1.13 & Medium\\\\\n",
       "\t 12 & MX-2013-156335 & 3/5/2013   & 3/12/2013  & Standard Class & TB-21250 & Tim Brockman   & Consumer & Managua       & Managua          & ⋯ & OFF-FA-10002526 & Office Supplies & Fasteners   & Accos Staples, 12 Pack                    &  20.76 & 3 & 0 &   9.54 &  0.65 & Medium\\\\\n",
       "\\end{tabular}\n"
      ],
      "text/markdown": [
       "\n",
       "A data.table: 12 × 24\n",
       "\n",
       "| Row ID &lt;int&gt; | Order ID &lt;chr&gt; | Order Date &lt;chr&gt; | Ship Date &lt;chr&gt; | Ship Mode &lt;chr&gt; | Customer ID &lt;chr&gt; | Customer Name &lt;chr&gt; | Segment &lt;chr&gt; | City &lt;chr&gt; | State &lt;chr&gt; | ⋯ ⋯ | Product ID &lt;chr&gt; | Category &lt;chr&gt; | Sub-Category &lt;chr&gt; | Product Name &lt;chr&gt; | Sales &lt;dbl&gt; | Quantity &lt;int&gt; | Discount &lt;dbl&gt; | Profit &lt;dbl&gt; | Shipping Cost &lt;dbl&gt; | Order Priority &lt;chr&gt; |\n",
       "|---|---|---|---|---|---|---|---|---|---|---|---|---|---|---|---|---|---|---|---|---|\n",
       "|  1 | MX-2014-143658 | 10/2/2014  | 10/6/2014  | Standard Class | SC-20575 | Sonia Cooley   | Consumer | Mexico City   | Distrito Federal | ⋯ | OFF-LA-10002782 | Office Supplies | Labels      | Hon File Folder Labels, Adjustable        |  13.08 | 3 | 0 |   4.56 |  1.03 | Medium |\n",
       "|  2 | MX-2012-155047 | 10/15/2012 | 10/20/2012 | Standard Class | KW-16570 | Kelly Williams | Consumer | Dos Quebradas | Risaralda        | ⋯ | FUR-FU-10004015 | Furniture       | Furnishings | Tenex Clock, Durable                      | 252.16 | 8 | 0 |  90.72 | 13.45 | Medium |\n",
       "|  3 | MX-2012-155047 | 10/15/2012 | 10/20/2012 | Standard Class | KW-16570 | Kelly Williams | Consumer | Dos Quebradas | Risaralda        | ⋯ | FUR-BO-10002352 | Furniture       | Bookcases   | Ikea 3-Shelf Cabinet, Mobile              | 193.28 | 2 | 0 |  54.08 |  9.63 | Medium |\n",
       "|  4 | MX-2012-155047 | 10/15/2012 | 10/20/2012 | Standard Class | KW-16570 | Kelly Williams | Consumer | Dos Quebradas | Risaralda        | ⋯ | OFF-BI-10004428 | Office Supplies | Binders     | Cardinal Binder, Clear                    |  35.44 | 4 | 0 |   4.96 |  1.37 | Medium |\n",
       "|  5 | MX-2012-155047 | 10/15/2012 | 10/20/2012 | Standard Class | KW-16570 | Kelly Williams | Consumer | Dos Quebradas | Risaralda        | ⋯ | OFF-AR-10004594 | Office Supplies | Art         | Sanford Canvas, Water Color               |  71.60 | 2 | 0 |  11.44 |  3.79 | Medium |\n",
       "|  6 | MX-2012-155047 | 10/15/2012 | 10/20/2012 | Standard Class | KW-16570 | Kelly Williams | Consumer | Dos Quebradas | Risaralda        | ⋯ | OFF-EN-10001375 | Office Supplies | Envelopes   | GlobeWeis Mailers, with clear poly window |  56.12 | 2 | 0 |  21.32 |  4.72 | Medium |\n",
       "|  7 | MX-2013-134096 | 9/27/2013  | 10/1/2013  | Standard Class | DP-13000 | Darren Powers  | Consumer | São Paulo     | São Paulo        | ⋯ | OFF-EN-10001375 | Office Supplies | Envelopes   | GlobeWeis Mailers, with clear poly window |  56.12 | 2 | 0 |  21.32 |  4.11 | Medium |\n",
       "|  8 | MX-2013-134096 | 9/27/2013  | 10/1/2013  | Standard Class | DP-13000 | Darren Powers  | Consumer | São Paulo     | São Paulo        | ⋯ | TEC-MA-10004956 | Technology      | Machines    | Konica Card Printer, Red                  | 344.64 | 3 | 0 | 165.42 | 26.20 | Medium |\n",
       "|  9 | MX-2013-134096 | 9/27/2013  | 10/1/2013  | Standard Class | DP-13000 | Darren Powers  | Consumer | São Paulo     | São Paulo        | ⋯ | OFF-SU-10003474 | Office Supplies | Supplies    | Elite Box Cutter, Easy Grip               |  97.36 | 4 | 0 |  19.44 |  6.86 | Medium |\n",
       "| 10 | MX-2013-134096 | 9/27/2013  | 10/1/2013  | Standard Class | DP-13000 | Darren Powers  | Consumer | São Paulo     | São Paulo        | ⋯ | TEC-AC-10001830 | Technology      | Accessories | Enermax Router, Erganomic                 | 341.52 | 2 | 0 |  13.64 | 17.34 | Medium |\n",
       "| 11 | MX-2013-134096 | 9/27/2013  | 10/1/2013  | Standard Class | DP-13000 | Darren Powers  | Consumer | São Paulo     | São Paulo        | ⋯ | OFF-BI-10002075 | Office Supplies | Binders     | Wilson Jones Hole Reinforcements, Durable |  12.06 | 3 | 0 |   3.48 |  1.13 | Medium |\n",
       "| 12 | MX-2013-156335 | 3/5/2013   | 3/12/2013  | Standard Class | TB-21250 | Tim Brockman   | Consumer | Managua       | Managua          | ⋯ | OFF-FA-10002526 | Office Supplies | Fasteners   | Accos Staples, 12 Pack                    |  20.76 | 3 | 0 |   9.54 |  0.65 | Medium |\n",
       "\n"
      ],
      "text/plain": [
       "   Row ID Order ID       Order Date Ship Date  Ship Mode      Customer ID\n",
       "1   1     MX-2014-143658 10/2/2014  10/6/2014  Standard Class SC-20575   \n",
       "2   2     MX-2012-155047 10/15/2012 10/20/2012 Standard Class KW-16570   \n",
       "3   3     MX-2012-155047 10/15/2012 10/20/2012 Standard Class KW-16570   \n",
       "4   4     MX-2012-155047 10/15/2012 10/20/2012 Standard Class KW-16570   \n",
       "5   5     MX-2012-155047 10/15/2012 10/20/2012 Standard Class KW-16570   \n",
       "6   6     MX-2012-155047 10/15/2012 10/20/2012 Standard Class KW-16570   \n",
       "7   7     MX-2013-134096 9/27/2013  10/1/2013  Standard Class DP-13000   \n",
       "8   8     MX-2013-134096 9/27/2013  10/1/2013  Standard Class DP-13000   \n",
       "9   9     MX-2013-134096 9/27/2013  10/1/2013  Standard Class DP-13000   \n",
       "10 10     MX-2013-134096 9/27/2013  10/1/2013  Standard Class DP-13000   \n",
       "11 11     MX-2013-134096 9/27/2013  10/1/2013  Standard Class DP-13000   \n",
       "12 12     MX-2013-156335 3/5/2013   3/12/2013  Standard Class TB-21250   \n",
       "   Customer Name  Segment  City          State            ⋯ Product ID     \n",
       "1  Sonia Cooley   Consumer Mexico City   Distrito Federal ⋯ OFF-LA-10002782\n",
       "2  Kelly Williams Consumer Dos Quebradas Risaralda        ⋯ FUR-FU-10004015\n",
       "3  Kelly Williams Consumer Dos Quebradas Risaralda        ⋯ FUR-BO-10002352\n",
       "4  Kelly Williams Consumer Dos Quebradas Risaralda        ⋯ OFF-BI-10004428\n",
       "5  Kelly Williams Consumer Dos Quebradas Risaralda        ⋯ OFF-AR-10004594\n",
       "6  Kelly Williams Consumer Dos Quebradas Risaralda        ⋯ OFF-EN-10001375\n",
       "7  Darren Powers  Consumer São Paulo     São Paulo        ⋯ OFF-EN-10001375\n",
       "8  Darren Powers  Consumer São Paulo     São Paulo        ⋯ TEC-MA-10004956\n",
       "9  Darren Powers  Consumer São Paulo     São Paulo        ⋯ OFF-SU-10003474\n",
       "10 Darren Powers  Consumer São Paulo     São Paulo        ⋯ TEC-AC-10001830\n",
       "11 Darren Powers  Consumer São Paulo     São Paulo        ⋯ OFF-BI-10002075\n",
       "12 Tim Brockman   Consumer Managua       Managua          ⋯ OFF-FA-10002526\n",
       "   Category        Sub-Category Product Name                             \n",
       "1  Office Supplies Labels       Hon File Folder Labels, Adjustable       \n",
       "2  Furniture       Furnishings  Tenex Clock, Durable                     \n",
       "3  Furniture       Bookcases    Ikea 3-Shelf Cabinet, Mobile             \n",
       "4  Office Supplies Binders      Cardinal Binder, Clear                   \n",
       "5  Office Supplies Art          Sanford Canvas, Water Color              \n",
       "6  Office Supplies Envelopes    GlobeWeis Mailers, with clear poly window\n",
       "7  Office Supplies Envelopes    GlobeWeis Mailers, with clear poly window\n",
       "8  Technology      Machines     Konica Card Printer, Red                 \n",
       "9  Office Supplies Supplies     Elite Box Cutter, Easy Grip              \n",
       "10 Technology      Accessories  Enermax Router, Erganomic                \n",
       "11 Office Supplies Binders      Wilson Jones Hole Reinforcements, Durable\n",
       "12 Office Supplies Fasteners    Accos Staples, 12 Pack                   \n",
       "   Sales  Quantity Discount Profit Shipping Cost Order Priority\n",
       "1   13.08 3        0          4.56  1.03         Medium        \n",
       "2  252.16 8        0         90.72 13.45         Medium        \n",
       "3  193.28 2        0         54.08  9.63         Medium        \n",
       "4   35.44 4        0          4.96  1.37         Medium        \n",
       "5   71.60 2        0         11.44  3.79         Medium        \n",
       "6   56.12 2        0         21.32  4.72         Medium        \n",
       "7   56.12 2        0         21.32  4.11         Medium        \n",
       "8  344.64 3        0        165.42 26.20         Medium        \n",
       "9   97.36 4        0         19.44  6.86         Medium        \n",
       "10 341.52 2        0         13.64 17.34         Medium        \n",
       "11  12.06 3        0          3.48  1.13         Medium        \n",
       "12  20.76 3        0          9.54  0.65         Medium        "
      ]
     },
     "metadata": {},
     "output_type": "display_data"
    }
   ],
   "source": [
    "head(gsd, 12)"
   ]
  },
  {
   "cell_type": "markdown",
   "id": "bdec1a41",
   "metadata": {},
   "source": [
    "### c. Display the last 5 rows"
   ]
  },
  {
   "cell_type": "code",
   "execution_count": 4,
   "id": "d809a3eb",
   "metadata": {
    "vscode": {
     "languageId": "r"
    }
   },
   "outputs": [
    {
     "data": {
      "text/html": [
       "<table class=\"dataframe\">\n",
       "<caption>A data.table: 5 × 24</caption>\n",
       "<thead>\n",
       "\t<tr><th scope=col>Row ID</th><th scope=col>Order ID</th><th scope=col>Order Date</th><th scope=col>Ship Date</th><th scope=col>Ship Mode</th><th scope=col>Customer ID</th><th scope=col>Customer Name</th><th scope=col>Segment</th><th scope=col>City</th><th scope=col>State</th><th scope=col>⋯</th><th scope=col>Product ID</th><th scope=col>Category</th><th scope=col>Sub-Category</th><th scope=col>Product Name</th><th scope=col>Sales</th><th scope=col>Quantity</th><th scope=col>Discount</th><th scope=col>Profit</th><th scope=col>Shipping Cost</th><th scope=col>Order Priority</th></tr>\n",
       "\t<tr><th scope=col>&lt;int&gt;</th><th scope=col>&lt;chr&gt;</th><th scope=col>&lt;chr&gt;</th><th scope=col>&lt;chr&gt;</th><th scope=col>&lt;chr&gt;</th><th scope=col>&lt;chr&gt;</th><th scope=col>&lt;chr&gt;</th><th scope=col>&lt;chr&gt;</th><th scope=col>&lt;chr&gt;</th><th scope=col>&lt;chr&gt;</th><th scope=col>⋯</th><th scope=col>&lt;chr&gt;</th><th scope=col>&lt;chr&gt;</th><th scope=col>&lt;chr&gt;</th><th scope=col>&lt;chr&gt;</th><th scope=col>&lt;dbl&gt;</th><th scope=col>&lt;int&gt;</th><th scope=col>&lt;dbl&gt;</th><th scope=col>&lt;dbl&gt;</th><th scope=col>&lt;dbl&gt;</th><th scope=col>&lt;chr&gt;</th></tr>\n",
       "</thead>\n",
       "<tbody>\n",
       "\t<tr><td>51286</td><td>HU-2012-7730</td><td>9/5/2012 </td><td>9/7/2012 </td><td>First Class   </td><td>NF-8385 </td><td>Natalie Fritzler</td><td>Consumer   </td><td>Budapest</td><td>Budapest</td><td>⋯</td><td>OFF-AVE-10004570</td><td>Office Supplies</td><td>Binders    </td><td>Avery Binder Covers, Economy             </td><td> 11.07</td><td>1</td><td>0</td><td> 3.42</td><td> 1.98</td><td>High  </td></tr>\n",
       "\t<tr><td>51287</td><td>HU-2012-7730</td><td>9/5/2012 </td><td>9/7/2012 </td><td>First Class   </td><td>NF-8385 </td><td>Natalie Fritzler</td><td>Consumer   </td><td>Budapest</td><td>Budapest</td><td>⋯</td><td>TEC-LOG-10004419</td><td>Technology     </td><td>Accessories</td><td>Logitech Flash Drive, USB                </td><td> 61.44</td><td>2</td><td>0</td><td>18.42</td><td>13.02</td><td>High  </td></tr>\n",
       "\t<tr><td>51288</td><td>HU-2012-7730</td><td>9/5/2012 </td><td>9/7/2012 </td><td>First Class   </td><td>NF-8385 </td><td>Natalie Fritzler</td><td>Consumer   </td><td>Budapest</td><td>Budapest</td><td>⋯</td><td>OFF-BOS-10002705</td><td>Office Supplies</td><td>Art        </td><td>Boston Highlighters, Fluorescent         </td><td> 80.52</td><td>4</td><td>0</td><td>20.88</td><td> 8.78</td><td>High  </td></tr>\n",
       "\t<tr><td>51289</td><td>HU-2012-7730</td><td>9/5/2012 </td><td>9/7/2012 </td><td>First Class   </td><td>NF-8385 </td><td>Natalie Fritzler</td><td>Consumer   </td><td>Budapest</td><td>Budapest</td><td>⋯</td><td>OFF-ENE-10004132</td><td>Office Supplies</td><td>Paper      </td><td>Enermax Computer Printout Paper, 8.5 x 11</td><td>130.44</td><td>4</td><td>0</td><td>33.84</td><td>18.97</td><td>High  </td></tr>\n",
       "\t<tr><td>51290</td><td>IZ-2011-5750</td><td>8/25/2011</td><td>8/29/2011</td><td>Standard Class</td><td>SZ-10035</td><td>Sam Zeldin      </td><td>Home Office</td><td>Baghdad </td><td>Baghdad </td><td>⋯</td><td>OFF-ACC-10002343</td><td>Office Supplies</td><td>Binders    </td><td>Acco 3-Hole Punch, Durable               </td><td> 31.62</td><td>1</td><td>0</td><td>12.96</td><td> 2.40</td><td>Medium</td></tr>\n",
       "</tbody>\n",
       "</table>\n"
      ],
      "text/latex": [
       "A data.table: 5 × 24\n",
       "\\begin{tabular}{lllllllllllllllllllll}\n",
       " Row ID & Order ID & Order Date & Ship Date & Ship Mode & Customer ID & Customer Name & Segment & City & State & ⋯ & Product ID & Category & Sub-Category & Product Name & Sales & Quantity & Discount & Profit & Shipping Cost & Order Priority\\\\\n",
       " <int> & <chr> & <chr> & <chr> & <chr> & <chr> & <chr> & <chr> & <chr> & <chr> & ⋯ & <chr> & <chr> & <chr> & <chr> & <dbl> & <int> & <dbl> & <dbl> & <dbl> & <chr>\\\\\n",
       "\\hline\n",
       "\t 51286 & HU-2012-7730 & 9/5/2012  & 9/7/2012  & First Class    & NF-8385  & Natalie Fritzler & Consumer    & Budapest & Budapest & ⋯ & OFF-AVE-10004570 & Office Supplies & Binders     & Avery Binder Covers, Economy              &  11.07 & 1 & 0 &  3.42 &  1.98 & High  \\\\\n",
       "\t 51287 & HU-2012-7730 & 9/5/2012  & 9/7/2012  & First Class    & NF-8385  & Natalie Fritzler & Consumer    & Budapest & Budapest & ⋯ & TEC-LOG-10004419 & Technology      & Accessories & Logitech Flash Drive, USB                 &  61.44 & 2 & 0 & 18.42 & 13.02 & High  \\\\\n",
       "\t 51288 & HU-2012-7730 & 9/5/2012  & 9/7/2012  & First Class    & NF-8385  & Natalie Fritzler & Consumer    & Budapest & Budapest & ⋯ & OFF-BOS-10002705 & Office Supplies & Art         & Boston Highlighters, Fluorescent          &  80.52 & 4 & 0 & 20.88 &  8.78 & High  \\\\\n",
       "\t 51289 & HU-2012-7730 & 9/5/2012  & 9/7/2012  & First Class    & NF-8385  & Natalie Fritzler & Consumer    & Budapest & Budapest & ⋯ & OFF-ENE-10004132 & Office Supplies & Paper       & Enermax Computer Printout Paper, 8.5 x 11 & 130.44 & 4 & 0 & 33.84 & 18.97 & High  \\\\\n",
       "\t 51290 & IZ-2011-5750 & 8/25/2011 & 8/29/2011 & Standard Class & SZ-10035 & Sam Zeldin       & Home Office & Baghdad  & Baghdad  & ⋯ & OFF-ACC-10002343 & Office Supplies & Binders     & Acco 3-Hole Punch, Durable                &  31.62 & 1 & 0 & 12.96 &  2.40 & Medium\\\\\n",
       "\\end{tabular}\n"
      ],
      "text/markdown": [
       "\n",
       "A data.table: 5 × 24\n",
       "\n",
       "| Row ID &lt;int&gt; | Order ID &lt;chr&gt; | Order Date &lt;chr&gt; | Ship Date &lt;chr&gt; | Ship Mode &lt;chr&gt; | Customer ID &lt;chr&gt; | Customer Name &lt;chr&gt; | Segment &lt;chr&gt; | City &lt;chr&gt; | State &lt;chr&gt; | ⋯ ⋯ | Product ID &lt;chr&gt; | Category &lt;chr&gt; | Sub-Category &lt;chr&gt; | Product Name &lt;chr&gt; | Sales &lt;dbl&gt; | Quantity &lt;int&gt; | Discount &lt;dbl&gt; | Profit &lt;dbl&gt; | Shipping Cost &lt;dbl&gt; | Order Priority &lt;chr&gt; |\n",
       "|---|---|---|---|---|---|---|---|---|---|---|---|---|---|---|---|---|---|---|---|---|\n",
       "| 51286 | HU-2012-7730 | 9/5/2012  | 9/7/2012  | First Class    | NF-8385  | Natalie Fritzler | Consumer    | Budapest | Budapest | ⋯ | OFF-AVE-10004570 | Office Supplies | Binders     | Avery Binder Covers, Economy              |  11.07 | 1 | 0 |  3.42 |  1.98 | High   |\n",
       "| 51287 | HU-2012-7730 | 9/5/2012  | 9/7/2012  | First Class    | NF-8385  | Natalie Fritzler | Consumer    | Budapest | Budapest | ⋯ | TEC-LOG-10004419 | Technology      | Accessories | Logitech Flash Drive, USB                 |  61.44 | 2 | 0 | 18.42 | 13.02 | High   |\n",
       "| 51288 | HU-2012-7730 | 9/5/2012  | 9/7/2012  | First Class    | NF-8385  | Natalie Fritzler | Consumer    | Budapest | Budapest | ⋯ | OFF-BOS-10002705 | Office Supplies | Art         | Boston Highlighters, Fluorescent          |  80.52 | 4 | 0 | 20.88 |  8.78 | High   |\n",
       "| 51289 | HU-2012-7730 | 9/5/2012  | 9/7/2012  | First Class    | NF-8385  | Natalie Fritzler | Consumer    | Budapest | Budapest | ⋯ | OFF-ENE-10004132 | Office Supplies | Paper       | Enermax Computer Printout Paper, 8.5 x 11 | 130.44 | 4 | 0 | 33.84 | 18.97 | High   |\n",
       "| 51290 | IZ-2011-5750 | 8/25/2011 | 8/29/2011 | Standard Class | SZ-10035 | Sam Zeldin       | Home Office | Baghdad  | Baghdad  | ⋯ | OFF-ACC-10002343 | Office Supplies | Binders     | Acco 3-Hole Punch, Durable                |  31.62 | 1 | 0 | 12.96 |  2.40 | Medium |\n",
       "\n"
      ],
      "text/plain": [
       "  Row ID Order ID     Order Date Ship Date Ship Mode      Customer ID\n",
       "1 51286  HU-2012-7730 9/5/2012   9/7/2012  First Class    NF-8385    \n",
       "2 51287  HU-2012-7730 9/5/2012   9/7/2012  First Class    NF-8385    \n",
       "3 51288  HU-2012-7730 9/5/2012   9/7/2012  First Class    NF-8385    \n",
       "4 51289  HU-2012-7730 9/5/2012   9/7/2012  First Class    NF-8385    \n",
       "5 51290  IZ-2011-5750 8/25/2011  8/29/2011 Standard Class SZ-10035   \n",
       "  Customer Name    Segment     City     State    ⋯ Product ID      \n",
       "1 Natalie Fritzler Consumer    Budapest Budapest ⋯ OFF-AVE-10004570\n",
       "2 Natalie Fritzler Consumer    Budapest Budapest ⋯ TEC-LOG-10004419\n",
       "3 Natalie Fritzler Consumer    Budapest Budapest ⋯ OFF-BOS-10002705\n",
       "4 Natalie Fritzler Consumer    Budapest Budapest ⋯ OFF-ENE-10004132\n",
       "5 Sam Zeldin       Home Office Baghdad  Baghdad  ⋯ OFF-ACC-10002343\n",
       "  Category        Sub-Category Product Name                              Sales \n",
       "1 Office Supplies Binders      Avery Binder Covers, Economy               11.07\n",
       "2 Technology      Accessories  Logitech Flash Drive, USB                  61.44\n",
       "3 Office Supplies Art          Boston Highlighters, Fluorescent           80.52\n",
       "4 Office Supplies Paper        Enermax Computer Printout Paper, 8.5 x 11 130.44\n",
       "5 Office Supplies Binders      Acco 3-Hole Punch, Durable                 31.62\n",
       "  Quantity Discount Profit Shipping Cost Order Priority\n",
       "1 1        0         3.42   1.98         High          \n",
       "2 2        0        18.42  13.02         High          \n",
       "3 4        0        20.88   8.78         High          \n",
       "4 4        0        33.84  18.97         High          \n",
       "5 1        0        12.96   2.40         Medium        "
      ]
     },
     "metadata": {},
     "output_type": "display_data"
    }
   ],
   "source": [
    "tail(gsd, 5)"
   ]
  },
  {
   "cell_type": "markdown",
   "id": "725915e7",
   "metadata": {},
   "source": [
    "### d. Number of variables (columns)"
   ]
  },
  {
   "cell_type": "code",
   "execution_count": 5,
   "id": "bdeed556",
   "metadata": {
    "vscode": {
     "languageId": "r"
    }
   },
   "outputs": [
    {
     "data": {
      "text/html": [
       "24"
      ],
      "text/latex": [
       "24"
      ],
      "text/markdown": [
       "24"
      ],
      "text/plain": [
       "[1] 24"
      ]
     },
     "metadata": {},
     "output_type": "display_data"
    }
   ],
   "source": [
    "ncol(gsd)"
   ]
  },
  {
   "cell_type": "markdown",
   "id": "f87400bf",
   "metadata": {},
   "source": [
    "### e. Number of observations (rows)"
   ]
  },
  {
   "cell_type": "code",
   "execution_count": 6,
   "id": "3c2e5102",
   "metadata": {
    "vscode": {
     "languageId": "r"
    }
   },
   "outputs": [
    {
     "data": {
      "text/html": [
       "51290"
      ],
      "text/latex": [
       "51290"
      ],
      "text/markdown": [
       "51290"
      ],
      "text/plain": [
       "[1] 51290"
      ]
     },
     "metadata": {},
     "output_type": "display_data"
    }
   ],
   "source": [
    "nrow(gsd)"
   ]
  },
  {
   "cell_type": "markdown",
   "id": "024948b2",
   "metadata": {},
   "source": [
    "### f. Dimensions of the dataset"
   ]
  },
  {
   "cell_type": "code",
   "execution_count": 7,
   "id": "36fb4bb3",
   "metadata": {
    "vscode": {
     "languageId": "r"
    }
   },
   "outputs": [
    {
     "data": {
      "text/html": [
       "<style>\n",
       ".list-inline {list-style: none; margin:0; padding: 0}\n",
       ".list-inline>li {display: inline-block}\n",
       ".list-inline>li:not(:last-child)::after {content: \"\\00b7\"; padding: 0 .5ex}\n",
       "</style>\n",
       "<ol class=list-inline><li>51290</li><li>24</li></ol>\n"
      ],
      "text/latex": [
       "\\begin{enumerate*}\n",
       "\\item 51290\n",
       "\\item 24\n",
       "\\end{enumerate*}\n"
      ],
      "text/markdown": [
       "1. 51290\n",
       "2. 24\n",
       "\n",
       "\n"
      ],
      "text/plain": [
       "[1] 51290    24"
      ]
     },
     "metadata": {},
     "output_type": "display_data"
    }
   ],
   "source": [
    "dim(gsd)"
   ]
  },
  {
   "cell_type": "markdown",
   "id": "baf58721",
   "metadata": {},
   "source": [
    "dataset gsd has:\n",
    "\n",
    "- 51,290 rows (observations)\n",
    "- 24 columns (variables or features)"
   ]
  },
  {
   "cell_type": "markdown",
   "id": "e84e2c0c",
   "metadata": {},
   "source": [
    "### g. Structure of the dataset"
   ]
  },
  {
   "cell_type": "code",
   "execution_count": 8,
   "id": "7cf895e1",
   "metadata": {
    "vscode": {
     "languageId": "r"
    }
   },
   "outputs": [
    {
     "name": "stdout",
     "output_type": "stream",
     "text": [
      "Classes 'data.table' and 'data.frame':\t51290 obs. of  24 variables:\n",
      " $ Row ID        : int  1 2 3 4 5 6 7 8 9 10 ...\n",
      " $ Order ID      : chr  \"MX-2014-143658\" \"MX-2012-155047\" \"MX-2012-155047\" \"MX-2012-155047\" ...\n",
      " $ Order Date    : chr  \"10/2/2014\" \"10/15/2012\" \"10/15/2012\" \"10/15/2012\" ...\n",
      " $ Ship Date     : chr  \"10/6/2014\" \"10/20/2012\" \"10/20/2012\" \"10/20/2012\" ...\n",
      " $ Ship Mode     : chr  \"Standard Class\" \"Standard Class\" \"Standard Class\" \"Standard Class\" ...\n",
      " $ Customer ID   : chr  \"SC-20575\" \"KW-16570\" \"KW-16570\" \"KW-16570\" ...\n",
      " $ Customer Name : chr  \"Sonia Cooley\" \"Kelly Williams\" \"Kelly Williams\" \"Kelly Williams\" ...\n",
      " $ Segment       : chr  \"Consumer\" \"Consumer\" \"Consumer\" \"Consumer\" ...\n",
      " $ City          : chr  \"Mexico City\" \"Dos Quebradas\" \"Dos Quebradas\" \"Dos Quebradas\" ...\n",
      " $ State         : chr  \"Distrito Federal\" \"Risaralda\" \"Risaralda\" \"Risaralda\" ...\n",
      " $ Country       : chr  \"Mexico\" \"Colombia\" \"Colombia\" \"Colombia\" ...\n",
      " $ Postal Code   : int  NA NA NA NA NA NA NA NA NA NA ...\n",
      " $ Market        : chr  \"LATAM\" \"LATAM\" \"LATAM\" \"LATAM\" ...\n",
      " $ Region        : chr  \"North\" \"South\" \"South\" \"South\" ...\n",
      " $ Product ID    : chr  \"OFF-LA-10002782\" \"FUR-FU-10004015\" \"FUR-BO-10002352\" \"OFF-BI-10004428\" ...\n",
      " $ Category      : chr  \"Office Supplies\" \"Furniture\" \"Furniture\" \"Office Supplies\" ...\n",
      " $ Sub-Category  : chr  \"Labels\" \"Furnishings\" \"Bookcases\" \"Binders\" ...\n",
      " $ Product Name  : chr  \"Hon File Folder Labels, Adjustable\" \"Tenex Clock, Durable\" \"Ikea 3-Shelf Cabinet, Mobile\" \"Cardinal Binder, Clear\" ...\n",
      " $ Sales         : num  13.1 252.2 193.3 35.4 71.6 ...\n",
      " $ Quantity      : int  3 8 2 4 2 2 2 3 4 2 ...\n",
      " $ Discount      : num  0 0 0 0 0 0 0 0 0 0 ...\n",
      " $ Profit        : num  4.56 90.72 54.08 4.96 11.44 ...\n",
      " $ Shipping Cost : num  1.03 13.45 9.63 1.37 3.79 ...\n",
      " $ Order Priority: chr  \"Medium\" \"Medium\" \"Medium\" \"Medium\" ...\n",
      " - attr(*, \".internal.selfref\")=<externalptr> \n"
     ]
    }
   ],
   "source": [
    "str(gsd)"
   ]
  },
  {
   "cell_type": "markdown",
   "id": "2f9e45d1",
   "metadata": {},
   "source": [
    "### h. Summary statistics and insights"
   ]
  },
  {
   "cell_type": "code",
   "execution_count": 9,
   "id": "8b6f8648",
   "metadata": {
    "vscode": {
     "languageId": "r"
    }
   },
   "outputs": [
    {
     "data": {
      "text/plain": [
       "     Row ID        Order ID          Order Date         Ship Date        \n",
       " Min.   :    1   Length:51290       Length:51290       Length:51290      \n",
       " 1st Qu.:12823   Class :character   Class :character   Class :character  \n",
       " Median :25646   Mode  :character   Mode  :character   Mode  :character  \n",
       " Mean   :25646                                                           \n",
       " 3rd Qu.:38468                                                           \n",
       " Max.   :51290                                                           \n",
       "                                                                         \n",
       "  Ship Mode         Customer ID        Customer Name        Segment         \n",
       " Length:51290       Length:51290       Length:51290       Length:51290      \n",
       " Class :character   Class :character   Class :character   Class :character  \n",
       " Mode  :character   Mode  :character   Mode  :character   Mode  :character  \n",
       "                                                                            \n",
       "                                                                            \n",
       "                                                                            \n",
       "                                                                            \n",
       "     City              State             Country           Postal Code   \n",
       " Length:51290       Length:51290       Length:51290       Min.   : 1040  \n",
       " Class :character   Class :character   Class :character   1st Qu.:23223  \n",
       " Mode  :character   Mode  :character   Mode  :character   Median :56431  \n",
       "                                                          Mean   :55190  \n",
       "                                                          3rd Qu.:90008  \n",
       "                                                          Max.   :99301  \n",
       "                                                          NA's   :41296  \n",
       "    Market             Region           Product ID          Category        \n",
       " Length:51290       Length:51290       Length:51290       Length:51290      \n",
       " Class :character   Class :character   Class :character   Class :character  \n",
       " Mode  :character   Mode  :character   Mode  :character   Mode  :character  \n",
       "                                                                            \n",
       "                                                                            \n",
       "                                                                            \n",
       "                                                                            \n",
       " Sub-Category       Product Name           Sales              Quantity     \n",
       " Length:51290       Length:51290       Min.   :    0.444   Min.   : 1.000  \n",
       " Class :character   Class :character   1st Qu.:   30.759   1st Qu.: 2.000  \n",
       " Mode  :character   Mode  :character   Median :   85.053   Median : 3.000  \n",
       "                                       Mean   :  246.491   Mean   : 3.477  \n",
       "                                       3rd Qu.:  251.053   3rd Qu.: 5.000  \n",
       "                                       Max.   :22638.480   Max.   :14.000  \n",
       "                                                                           \n",
       "    Discount          Profit         Shipping Cost    Order Priority    \n",
       " Min.   :0.0000   Min.   :-6599.98   Min.   :  0.00   Length:51290      \n",
       " 1st Qu.:0.0000   1st Qu.:    0.00   1st Qu.:  2.61   Class :character  \n",
       " Median :0.0000   Median :    9.24   Median :  7.79   Mode  :character  \n",
       " Mean   :0.1429   Mean   :   28.61   Mean   : 26.38                     \n",
       " 3rd Qu.:0.2000   3rd Qu.:   36.81   3rd Qu.: 24.45                     \n",
       " Max.   :0.8500   Max.   : 8399.98   Max.   :933.57                     \n",
       "                                                                        "
      ]
     },
     "metadata": {},
     "output_type": "display_data"
    }
   ],
   "source": [
    "summary(gsd)"
   ]
  },
  {
   "cell_type": "markdown",
   "id": "190f6dc4",
   "metadata": {},
   "source": [
    "#### ✍️Key Insights\n",
    "##### With frequency counts, histograms & boxplots"
   ]
  },
  {
   "cell_type": "markdown",
   "id": "87373f36",
   "metadata": {},
   "source": [
    "![image](images/image1.png)"
   ]
  },
  {
   "cell_type": "markdown",
   "id": "02ed4cc8",
   "metadata": {},
   "source": [
    "#### Frequency Counts"
   ]
  },
  {
   "cell_type": "code",
   "execution_count": 10,
   "id": "4a882425",
   "metadata": {
    "vscode": {
     "languageId": "r"
    }
   },
   "outputs": [
    {
     "data": {
      "text/plain": [
       "\n",
       "   Consumer   Corporate Home Office \n",
       "      26518       15429        9343 "
      ]
     },
     "metadata": {},
     "output_type": "display_data"
    },
    {
     "data": {
      "text/plain": [
       "\n",
       "   First Class       Same Day   Second Class Standard Class \n",
       "          7505           2701          10309          30775 "
      ]
     },
     "metadata": {},
     "output_type": "display_data"
    },
    {
     "data": {
      "text/plain": [
       "\n",
       "        Africa         Canada      Caribbean        Central   Central Asia \n",
       "          4587            384           1690          11117           2048 \n",
       "          East           EMEA          North     North Asia        Oceania \n",
       "          2848           5029           4785           2338           3487 \n",
       "         South Southeast Asia           West \n",
       "          6645           3129           3203 "
      ]
     },
     "metadata": {},
     "output_type": "display_data"
    },
    {
     "data": {
      "text/plain": [
       "\n",
       "Critical     High      Low   Medium \n",
       "    3932    15501     2424    29433 "
      ]
     },
     "metadata": {},
     "output_type": "display_data"
    }
   ],
   "source": [
    "# Purpose: To understand the distribution of categories within a variable.\n",
    "table(gsd$Segment)\n",
    "table(gsd$'Ship Mode')\n",
    "table(gsd$Region)\n",
    "table(gsd$'Order Priority')"
   ]
  },
  {
   "cell_type": "markdown",
   "id": "84ec976c",
   "metadata": {},
   "source": [
    "#### Histograms"
   ]
  },
  {
   "cell_type": "code",
   "execution_count": 11,
   "id": "5299f596",
   "metadata": {
    "vscode": {
     "languageId": "r"
    }
   },
   "outputs": [
    {
     "data": {
      "image/png": "[encoded data removed]",
      "text/plain": [
       "Plot with title \"Histogram of gsd$Sales\""
      ]
     },
     "metadata": {
      "image/png": {
       "height": 420,
       "width": 420
      }
     },
     "output_type": "display_data"
    },
    {
     "data": {
      "image/png": "[encoded data removed]",
      "text/plain": [
       "Plot with title \"Histogram of gsd$Profit\""
      ]
     },
     "metadata": {
      "image/png": {
       "height": 420,
       "width": 420
      }
     },
     "output_type": "display_data"
    },
    {
     "data": {
      "image/png": "[encoded data removed]",
      "text/plain": [
       "Plot with title \"Histogram of gsd$`Shipping Cost`\""
      ]
     },
     "metadata": {
      "image/png": {
       "height": 420,
       "width": 420
      }
     },
     "output_type": "display_data"
    }
   ],
   "source": [
    "# Purpose: To visualize the shape of the distribution of numerical data, showing frequency within certain ranges (bins).\n",
    "hist(gsd$Sales, breaks=50) \n",
    "hist(gsd$Profit, breaks=50)\n",
    "hist(gsd$`Shipping Cost`, breaks=30)  "
   ]
  },
  {
   "cell_type": "markdown",
   "id": "4dcca828",
   "metadata": {},
   "source": [
    "#### Boxplots"
   ]
  },
  {
   "cell_type": "code",
   "execution_count": 12,
   "id": "9ae76ee0",
   "metadata": {
    "vscode": {
     "languageId": "r"
    }
   },
   "outputs": [
    {
     "data": {
      "image/png": "[encoded data removed]",
      "text/plain": [
       "Plot with title \"Boxplot of Sales\""
      ]
     },
     "metadata": {
      "image/png": {
       "height": 420,
       "width": 420
      }
     },
     "output_type": "display_data"
    },
    {
     "data": {
      "image/png": "[encoded data removed]",
      "text/plain": [
       "Plot with title \"Boxplot of Profit\""
      ]
     },
     "metadata": {
      "image/png": {
       "height": 420,
       "width": 420
      }
     },
     "output_type": "display_data"
    }
   ],
   "source": [
    "# Purpose: To summarize the distribution of numerical data, showing the median, quartiles, range, and potential outliers. Also excellent for comparing distributions across different categories.\n",
    "boxplot(gsd$Sales, main=\"Boxplot of Sales\")\n",
    "boxplot(gsd$Profit, main=\"Boxplot of Profit\")"
   ]
  },
  {
   "cell_type": "code",
   "execution_count": 13,
   "id": "0a294de7",
   "metadata": {
    "vscode": {
     "languageId": "r"
    }
   },
   "outputs": [
    {
     "data": {
      "image/png": "[encoded data removed]",
      "text/plain": [
       "Plot with title \"Profit Distribution by Customer Segment\""
      ]
     },
     "metadata": {
      "image/png": {
       "height": 420,
       "width": 420
      }
     },
     "output_type": "display_data"
    },
    {
     "data": {
      "image/png": "[encoded data removed]",
      "text/plain": [
       "Plot with title \"Sales Distribution by Region\""
      ]
     },
     "metadata": {
      "image/png": {
       "height": 420,
       "width": 420
      }
     },
     "output_type": "display_data"
    }
   ],
   "source": [
    "# compare a numerical variable across categories\n",
    "boxplot(Profit ~ Segment, data = gsd, main=\"Profit Distribution by Customer Segment\")\n",
    "boxplot(Sales ~ Region, data = gsd, main=\"Sales Distribution by Region\")"
   ]
  },
  {
   "cell_type": "markdown",
   "id": "c3526e08",
   "metadata": {},
   "source": [
    "# Data Cleaning"
   ]
  },
  {
   "cell_type": "markdown",
   "id": "8332c51f",
   "metadata": {},
   "source": [
    "### i. Check for duplicates"
   ]
  },
  {
   "cell_type": "code",
   "execution_count": 14,
   "id": "99c71660",
   "metadata": {
    "vscode": {
     "languageId": "r"
    }
   },
   "outputs": [
    {
     "data": {
      "text/html": [
       "0"
      ],
      "text/latex": [
       "0"
      ],
      "text/markdown": [
       "0"
      ],
      "text/plain": [
       "[1] 0"
      ]
     },
     "metadata": {},
     "output_type": "display_data"
    }
   ],
   "source": [
    "sum(duplicated(gsd))"
   ]
  },
  {
   "cell_type": "markdown",
   "id": "8fe97423",
   "metadata": {},
   "source": [
    "### j. Check for missing values"
   ]
  },
  {
   "cell_type": "code",
   "execution_count": 15,
   "id": "78c1ab5b",
   "metadata": {
    "vscode": {
     "languageId": "r"
    }
   },
   "outputs": [
    {
     "data": {
      "text/html": [
       "<style>\n",
       ".dl-inline {width: auto; margin:0; padding: 0}\n",
       ".dl-inline>dt, .dl-inline>dd {float: none; width: auto; display: inline-block}\n",
       ".dl-inline>dt::after {content: \":\\0020\"; padding-right: .5ex}\n",
       ".dl-inline>dt:not(:first-of-type) {padding-left: .5ex}\n",
       "</style><dl class=dl-inline><dt>Row ID</dt><dd>0</dd><dt>Order ID</dt><dd>0</dd><dt>Order Date</dt><dd>0</dd><dt>Ship Date</dt><dd>0</dd><dt>Ship Mode</dt><dd>0</dd><dt>Customer ID</dt><dd>0</dd><dt>Customer Name</dt><dd>0</dd><dt>Segment</dt><dd>0</dd><dt>City</dt><dd>0</dd><dt>State</dt><dd>0</dd><dt>Country</dt><dd>0</dd><dt>Postal Code</dt><dd>41296</dd><dt>Market</dt><dd>0</dd><dt>Region</dt><dd>0</dd><dt>Product ID</dt><dd>0</dd><dt>Category</dt><dd>0</dd><dt>Sub-Category</dt><dd>0</dd><dt>Product Name</dt><dd>0</dd><dt>Sales</dt><dd>0</dd><dt>Quantity</dt><dd>0</dd><dt>Discount</dt><dd>0</dd><dt>Profit</dt><dd>0</dd><dt>Shipping Cost</dt><dd>0</dd><dt>Order Priority</dt><dd>0</dd></dl>\n"
      ],
      "text/latex": [
       "\\begin{description*}\n",
       "\\item[Row ID] 0\n",
       "\\item[Order ID] 0\n",
       "\\item[Order Date] 0\n",
       "\\item[Ship Date] 0\n",
       "\\item[Ship Mode] 0\n",
       "\\item[Customer ID] 0\n",
       "\\item[Customer Name] 0\n",
       "\\item[Segment] 0\n",
       "\\item[City] 0\n",
       "\\item[State] 0\n",
       "\\item[Country] 0\n",
       "\\item[Postal Code] 41296\n",
       "\\item[Market] 0\n",
       "\\item[Region] 0\n",
       "\\item[Product ID] 0\n",
       "\\item[Category] 0\n",
       "\\item[Sub-Category] 0\n",
       "\\item[Product Name] 0\n",
       "\\item[Sales] 0\n",
       "\\item[Quantity] 0\n",
       "\\item[Discount] 0\n",
       "\\item[Profit] 0\n",
       "\\item[Shipping Cost] 0\n",
       "\\item[Order Priority] 0\n",
       "\\end{description*}\n"
      ],
      "text/markdown": [
       "Row ID\n",
       ":   0Order ID\n",
       ":   0Order Date\n",
       ":   0Ship Date\n",
       ":   0Ship Mode\n",
       ":   0Customer ID\n",
       ":   0Customer Name\n",
       ":   0Segment\n",
       ":   0City\n",
       ":   0State\n",
       ":   0Country\n",
       ":   0Postal Code\n",
       ":   41296Market\n",
       ":   0Region\n",
       ":   0Product ID\n",
       ":   0Category\n",
       ":   0Sub-Category\n",
       ":   0Product Name\n",
       ":   0Sales\n",
       ":   0Quantity\n",
       ":   0Discount\n",
       ":   0Profit\n",
       ":   0Shipping Cost\n",
       ":   0Order Priority\n",
       ":   0\n",
       "\n"
      ],
      "text/plain": [
       "        Row ID       Order ID     Order Date      Ship Date      Ship Mode \n",
       "             0              0              0              0              0 \n",
       "   Customer ID  Customer Name        Segment           City          State \n",
       "             0              0              0              0              0 \n",
       "       Country    Postal Code         Market         Region     Product ID \n",
       "             0          41296              0              0              0 \n",
       "      Category   Sub-Category   Product Name          Sales       Quantity \n",
       "             0              0              0              0              0 \n",
       "      Discount         Profit  Shipping Cost Order Priority \n",
       "             0              0              0              0 "
      ]
     },
     "metadata": {},
     "output_type": "display_data"
    }
   ],
   "source": [
    "colSums(is.na(gsd))"
   ]
  },
  {
   "cell_type": "markdown",
   "id": "57dc103b",
   "metadata": {},
   "source": [
    "### k. Handle missing values"
   ]
  },
  {
   "cell_type": "code",
   "execution_count": 16,
   "id": "f7826c6a",
   "metadata": {
    "vscode": {
     "languageId": "r"
    }
   },
   "outputs": [
    {
     "name": "stdout",
     "output_type": "stream",
     "text": [
      "Postal Code has 41296 missing values, keeping column as-is.\n"
     ]
    }
   ],
   "source": [
    "# Option A: Keep as-is (I am using this)\n",
    "cat(\"Postal Code has\", sum(is.na(gsd$`Postal Code`)), \"missing values, keeping column as-is.\\n\")"
   ]
  },
  {
   "cell_type": "code",
   "execution_count": 17,
   "id": "10fedf60",
   "metadata": {
    "vscode": {
     "languageId": "r"
    }
   },
   "outputs": [],
   "source": [
    "# Option B: Replace NAs with a placeholder (if needed for specific tasks)\n",
    "gsd$`Postal Code`[is.na(gsd$`Postal Code`)] <- \"Unknown\""
   ]
  },
  {
   "cell_type": "code",
   "execution_count": 18,
   "id": "bcc6a742",
   "metadata": {
    "vscode": {
     "languageId": "r"
    }
   },
   "outputs": [],
   "source": [
    "# Option C: Drop rows with missing essential fields\n",
    "gsd <- gsd %>% drop_na(`Postal Code`)"
   ]
  },
  {
   "cell_type": "markdown",
   "id": "8ac66249",
   "metadata": {},
   "source": [
    "✍️ Justification:\n",
    "\n",
    "The `Postal Code` column contains 41,296 missing values. Since it is not critical for our analysis (which focuses on countries, sales, and categories), I opted to retain the column without removing rows. This preserves the data integrity for global insights without affecting key analyses."
   ]
  },
  {
   "cell_type": "markdown",
   "id": "68b4a0e1",
   "metadata": {},
   "source": [
    "# Data Filtering"
   ]
  },
  {
   "cell_type": "markdown",
   "id": "083f73c4",
   "metadata": {},
   "source": [
    "### l. Total number of countries"
   ]
  },
  {
   "cell_type": "code",
   "execution_count": 19,
   "id": "6d2bc0ba",
   "metadata": {
    "vscode": {
     "languageId": "r"
    }
   },
   "outputs": [
    {
     "data": {
      "text/html": [
       "147"
      ],
      "text/latex": [
       "147"
      ],
      "text/markdown": [
       "147"
      ],
      "text/plain": [
       "[1] 147"
      ]
     },
     "metadata": {},
     "output_type": "display_data"
    }
   ],
   "source": [
    "length(unique(gsd$Country))"
   ]
  },
  {
   "cell_type": "markdown",
   "id": "efb45ba7",
   "metadata": {},
   "source": [
    "### m. Select 5 countries for analysis"
   ]
  },
  {
   "cell_type": "code",
   "execution_count": 20,
   "id": "93f5b966",
   "metadata": {
    "vscode": {
     "languageId": "r"
    }
   },
   "outputs": [],
   "source": [
    "# Filter the dataset for selected countries\n",
    "selected_countries <- c(\"United States\", \"India\", \"Germany\", \"China\", \"Australia\")\n",
    "gsd2 <- gsd %>% filter(Country %in% selected_countries)"
   ]
  },
  {
   "cell_type": "code",
   "execution_count": 21,
   "id": "a8082e29",
   "metadata": {
    "vscode": {
     "languageId": "r"
    }
   },
   "outputs": [],
   "source": [
    "# Convert Order Date and Ship Date to proper date formats\n",
    "gsd2 <- gsd2 %>%\n",
    "  mutate(\n",
    "    `Order Date` = parse_date_time(as.character(`Order Date`), orders = c(\"mdy HMS\", \"mdy\")),\n",
    "    `Ship Date` = parse_date_time(as.character(`Ship Date`), orders = c(\"mdy HMS\", \"mdy\")),\n",
    "    Order_Month = floor_date(`Order Date`, \"month\"),\n",
    "    Order_Month = as.Date(Order_Month) \n",
    "  )"
   ]
  },
  {
   "cell_type": "markdown",
   "id": "696cc106",
   "metadata": {},
   "source": [
    "# 2. Business Insights & Visualization"
   ]
  },
  {
   "cell_type": "markdown",
   "id": "2d33f135",
   "metadata": {},
   "source": [
    "## 📊 Insight 1: Regional Sales & Discounting"
   ]
  },
  {
   "cell_type": "markdown",
   "id": "ba9b8880",
   "metadata": {},
   "source": [
    "### Total Sales & Avg Discount by Country"
   ]
  },
  {
   "cell_type": "code",
   "execution_count": 22,
   "id": "0f3d274b",
   "metadata": {
    "vscode": {
     "languageId": "r"
    }
   },
   "outputs": [
    {
     "data": {
      "image/png": "[encoded data removed]",
      "text/plain": [
       "plot without title"
      ]
     },
     "metadata": {
      "image/png": {
       "height": 420,
       "width": 420
      }
     },
     "output_type": "display_data"
    }
   ],
   "source": [
    "sales_discount <- gsd2 %>%\n",
    "  group_by(Country) %>%\n",
    "  summarise(\n",
    "    Total_Sales = sum(Sales, na.rm = TRUE),\n",
    "    Avg_Discount = mean(Discount, na.rm = TRUE)\n",
    "  )\n",
    "\n",
    "# Bar chart\n",
    "ggplot(sales_discount, aes(x = Country, y = Total_Sales, fill = Avg_Discount)) +\n",
    "  geom_bar(stat = \"identity\") +\n",
    "  theme_minimal() +\n",
    "  labs(title = \"Total Sales & Avg Discount per Country\", y = \"Total Sales\")"
   ]
  },
  {
   "cell_type": "markdown",
   "id": "60c15e6d",
   "metadata": {},
   "source": [
    "### o. Discount vs Profitability"
   ]
  },
  {
   "cell_type": "code",
   "execution_count": 23,
   "id": "1782d9e3",
   "metadata": {
    "vscode": {
     "languageId": "r"
    }
   },
   "outputs": [
    {
     "data": {
      "image/png": "[encoded data removed]",
      "text/plain": [
       "plot without title"
      ]
     },
     "metadata": {
      "image/png": {
       "height": 420,
       "width": 420
      }
     },
     "output_type": "display_data"
    }
   ],
   "source": [
    "profit_margin <- gsd2 %>%\n",
    "  group_by(Country) %>%\n",
    "  summarise(\n",
    "    Avg_Discount = mean(Discount, na.rm = TRUE),\n",
    "    Profit_Margin = sum(Profit) / sum(Sales)\n",
    "  )\n",
    "\n",
    "# Scatter plot\n",
    "ggplot(profit_margin, aes(x = Avg_Discount, y = Profit_Margin, label = Country)) +\n",
    "  geom_point(size = 4, color = \"steelblue\") +\n",
    "  geom_text(nudge_y = 0.01) +\n",
    "  theme_minimal() +\n",
    "  labs(title = \"Avg Discount vs Profit Margin\")"
   ]
  },
  {
   "cell_type": "markdown",
   "id": "390dda74",
   "metadata": {},
   "source": [
    "### p. ✍️ Business Insights & Recommendations"
   ]
  },
  {
   "cell_type": "markdown",
   "id": "234bb7be",
   "metadata": {},
   "source": [
    "![image](images/image2.png)"
   ]
  },
  {
   "cell_type": "markdown",
   "id": "5a4dc957",
   "metadata": {},
   "source": [
    "## 📊 Insight 2: Category-Level Contribution"
   ]
  },
  {
   "cell_type": "markdown",
   "id": "8b131ee9",
   "metadata": {},
   "source": [
    "### q. Sales & Profit by Category"
   ]
  },
  {
   "cell_type": "code",
   "execution_count": 24,
   "id": "9ea2ab03",
   "metadata": {
    "vscode": {
     "languageId": "r"
    }
   },
   "outputs": [
    {
     "data": {
      "image/png": "[encoded data removed]",
      "text/plain": [
       "plot without title"
      ]
     },
     "metadata": {
      "image/png": {
       "height": 420,
       "width": 420
      }
     },
     "output_type": "display_data"
    }
   ],
   "source": [
    "category_perf <- gsd2 %>%\n",
    "  group_by(Category) %>%\n",
    "  summarise(Sales = sum(Sales), Profit = sum(Profit))\n",
    "\n",
    "# Bar chart\n",
    "ggplot(category_perf, aes(x = Category)) +\n",
    "  geom_bar(aes(y = Sales), stat = \"identity\", fill = \"skyblue\", alpha = 0.7) +\n",
    "  geom_bar(aes(y = Profit), stat = \"identity\", fill = \"darkgreen\", alpha = 0.5) +\n",
    "  theme_minimal() +\n",
    "  labs(title = \"Category-wise Sales and Profit\")"
   ]
  },
  {
   "cell_type": "markdown",
   "id": "1fc5179c",
   "metadata": {},
   "source": [
    "### r. 3 Lowest Margin Sub-Categories in Top Category"
   ]
  },
  {
   "cell_type": "code",
   "execution_count": 25,
   "id": "8204ba4a",
   "metadata": {
    "vscode": {
     "languageId": "r"
    }
   },
   "outputs": [
    {
     "data": {
      "text/html": [
       "<style>\n",
       ".list-inline {list-style: none; margin:0; padding: 0}\n",
       ".list-inline>li {display: inline-block}\n",
       ".list-inline>li:not(:last-child)::after {content: \"\\00b7\"; padding: 0 .5ex}\n",
       "</style>\n",
       "<ol class=list-inline><li>'Row ID'</li><li>'Order ID'</li><li>'Order Date'</li><li>'Ship Date'</li><li>'Ship Mode'</li><li>'Customer ID'</li><li>'Customer Name'</li><li>'Segment'</li><li>'City'</li><li>'State'</li><li>'Country'</li><li>'Postal Code'</li><li>'Market'</li><li>'Region'</li><li>'Product ID'</li><li>'Category'</li><li>'Sub-Category'</li><li>'Product Name'</li><li>'Sales'</li><li>'Quantity'</li><li>'Discount'</li><li>'Profit'</li><li>'Shipping Cost'</li><li>'Order Priority'</li><li>'Order_Month'</li></ol>\n"
      ],
      "text/latex": [
       "\\begin{enumerate*}\n",
       "\\item 'Row ID'\n",
       "\\item 'Order ID'\n",
       "\\item 'Order Date'\n",
       "\\item 'Ship Date'\n",
       "\\item 'Ship Mode'\n",
       "\\item 'Customer ID'\n",
       "\\item 'Customer Name'\n",
       "\\item 'Segment'\n",
       "\\item 'City'\n",
       "\\item 'State'\n",
       "\\item 'Country'\n",
       "\\item 'Postal Code'\n",
       "\\item 'Market'\n",
       "\\item 'Region'\n",
       "\\item 'Product ID'\n",
       "\\item 'Category'\n",
       "\\item 'Sub-Category'\n",
       "\\item 'Product Name'\n",
       "\\item 'Sales'\n",
       "\\item 'Quantity'\n",
       "\\item 'Discount'\n",
       "\\item 'Profit'\n",
       "\\item 'Shipping Cost'\n",
       "\\item 'Order Priority'\n",
       "\\item 'Order\\_Month'\n",
       "\\end{enumerate*}\n"
      ],
      "text/markdown": [
       "1. 'Row ID'\n",
       "2. 'Order ID'\n",
       "3. 'Order Date'\n",
       "4. 'Ship Date'\n",
       "5. 'Ship Mode'\n",
       "6. 'Customer ID'\n",
       "7. 'Customer Name'\n",
       "8. 'Segment'\n",
       "9. 'City'\n",
       "10. 'State'\n",
       "11. 'Country'\n",
       "12. 'Postal Code'\n",
       "13. 'Market'\n",
       "14. 'Region'\n",
       "15. 'Product ID'\n",
       "16. 'Category'\n",
       "17. 'Sub-Category'\n",
       "18. 'Product Name'\n",
       "19. 'Sales'\n",
       "20. 'Quantity'\n",
       "21. 'Discount'\n",
       "22. 'Profit'\n",
       "23. 'Shipping Cost'\n",
       "24. 'Order Priority'\n",
       "25. 'Order_Month'\n",
       "\n",
       "\n"
      ],
      "text/plain": [
       " [1] \"Row ID\"         \"Order ID\"       \"Order Date\"     \"Ship Date\"     \n",
       " [5] \"Ship Mode\"      \"Customer ID\"    \"Customer Name\"  \"Segment\"       \n",
       " [9] \"City\"           \"State\"          \"Country\"        \"Postal Code\"   \n",
       "[13] \"Market\"         \"Region\"         \"Product ID\"     \"Category\"      \n",
       "[17] \"Sub-Category\"   \"Product Name\"   \"Sales\"          \"Quantity\"      \n",
       "[21] \"Discount\"       \"Profit\"         \"Shipping Cost\"  \"Order Priority\"\n",
       "[25] \"Order_Month\"   "
      ]
     },
     "metadata": {},
     "output_type": "display_data"
    }
   ],
   "source": [
    "colnames(gsd2)"
   ]
  },
  {
   "cell_type": "code",
   "execution_count": 26,
   "id": "e1ce4f49",
   "metadata": {
    "vscode": {
     "languageId": "r"
    }
   },
   "outputs": [
    {
     "data": {
      "image/png": "[encoded data removed]",
      "text/plain": [
       "plot without title"
      ]
     },
     "metadata": {
      "image/png": {
       "height": 420,
       "width": 420
      }
     },
     "output_type": "display_data"
    }
   ],
   "source": [
    "# Identify top category by total sales\n",
    "top_category <- category_perf %>%\n",
    "  arrange(desc(Sales)) %>%\n",
    "  slice(1) %>%\n",
    "  pull(Category)\n",
    "\n",
    "# Get 3 sub-categories with lowest profit margins from the top category\n",
    "low_margin_subs <- gsd2 %>%\n",
    "  filter(Category == top_category) %>%\n",
    "  group_by(`Sub-Category`) %>%\n",
    "  summarise(\n",
    "    Sales = sum(Sales),\n",
    "    Profit = sum(Profit),\n",
    "    Margin = Profit / Sales,\n",
    "    .groups = \"drop\"\n",
    "  ) %>%\n",
    "  arrange(Margin) %>%\n",
    "  slice(1:3)\n",
    "\n",
    "# Bar chart: lowest margin sub-categories\n",
    "ggplot(low_margin_subs, aes(x = reorder(`Sub-Category`, Margin), y = Margin)) +\n",
    "  geom_col(fill = \"tomato\") +\n",
    "  coord_flip() +\n",
    "  labs(\n",
    "    title = paste(\"Lowest Margin Sub-Categories in\", top_category),\n",
    "    x = \"Sub-Category\",\n",
    "    y = \"Profit Margin\"\n",
    "  ) +\n",
    "  theme_minimal()\n"
   ]
  },
  {
   "cell_type": "markdown",
   "id": "f0dcfe46",
   "metadata": {},
   "source": [
    "### s. ✍️ Business Insights"
   ]
  },
  {
   "cell_type": "markdown",
   "id": "cdc29f49",
   "metadata": {},
   "source": [
    "![image](images/image3.png)"
   ]
  },
  {
   "cell_type": "markdown",
   "id": "30af687e",
   "metadata": {},
   "source": [
    "## 📊 Insight 3: Temporal Trends"
   ]
  },
  {
   "cell_type": "markdown",
   "id": "72c5cad8",
   "metadata": {},
   "source": [
    "### t. Monthly Order Volume"
   ]
  },
  {
   "cell_type": "code",
   "execution_count": 27,
   "id": "605cc333",
   "metadata": {
    "vscode": {
     "languageId": "r"
    }
   },
   "outputs": [
    {
     "name": "stdout",
     "output_type": "stream",
     "text": [
      "\u001b[90m# A tibble: 48 × 2\u001b[39m\n",
      "   Order_Month Orders\n",
      "   \u001b[3m\u001b[90m<date>\u001b[39m\u001b[23m       \u001b[3m\u001b[90m<int>\u001b[39m\u001b[23m\n",
      "\u001b[90m 1\u001b[39m 2011-01-01     122\n",
      "\u001b[90m 2\u001b[39m 2011-02-01     111\n",
      "\u001b[90m 3\u001b[39m 2011-03-01     254\n",
      "\u001b[90m 4\u001b[39m 2011-04-01     208\n",
      "\u001b[90m 5\u001b[39m 2011-05-01     221\n",
      "\u001b[90m 6\u001b[39m 2011-06-01     285\n",
      "\u001b[90m 7\u001b[39m 2011-07-01     202\n",
      "\u001b[90m 8\u001b[39m 2011-08-01     320\n",
      "\u001b[90m 9\u001b[39m 2011-09-01     460\n",
      "\u001b[90m10\u001b[39m 2011-10-01     318\n",
      "\u001b[90m# ℹ 38 more rows\u001b[39m\n"
     ]
    },
    {
     "name": "stderr",
     "output_type": "stream",
     "text": [
      "Warning message:\n",
      "\"\u001b[1m\u001b[22mUsing `size` aesthetic for lines was deprecated in ggplot2 3.4.0.\n",
      "\u001b[36mℹ\u001b[39m Please use `linewidth` instead.\"\n"
     ]
    },
    {
     "data": {
      "image/png": "[encoded data removed]",
      "text/plain": [
       "plot without title"
      ]
     },
     "metadata": {
      "image/png": {
       "height": 420,
       "width": 420
      }
     },
     "output_type": "display_data"
    }
   ],
   "source": [
    "# Monthly order count summary\n",
    "monthly_orders <- gsd2 %>%\n",
    "  group_by(Order_Month) %>%\n",
    "  summarise(Orders = n()) %>%\n",
    "  arrange(Order_Month)\n",
    "\n",
    "# Display summary table\n",
    "print(monthly_orders)\n",
    "\n",
    "# Plot\n",
    "ggplot(monthly_orders, aes(x = Order_Month, y = Orders)) +\n",
    "  geom_line(color = \"purple\", size = 1) +\n",
    "  scale_x_date(date_labels = \"%Y-%m\", date_breaks = \"3 months\") +\n",
    "  labs(title = \"Monthly Order Volume\", x = \"Month\", y = \"Number of Orders\") +\n",
    "  theme(axis.text.x = element_text(angle = 45, hjust = 1))"
   ]
  },
  {
   "cell_type": "markdown",
   "id": "0a1d3235",
   "metadata": {},
   "source": [
    "### u. Monthly Profit Margins"
   ]
  },
  {
   "cell_type": "code",
   "execution_count": 28,
   "id": "fb4caeea",
   "metadata": {
    "vscode": {
     "languageId": "r"
    }
   },
   "outputs": [
    {
     "name": "stdout",
     "output_type": "stream",
     "text": [
      "\u001b[90m# A tibble: 48 × 5\u001b[39m\n",
      "   Order_Month Monthly_Sales Monthly_Profit Orders Margin\n",
      "   \u001b[3m\u001b[90m<date>\u001b[39m\u001b[23m              \u001b[3m\u001b[90m<dbl>\u001b[39m\u001b[23m          \u001b[3m\u001b[90m<dbl>\u001b[39m\u001b[23m  \u001b[3m\u001b[90m<int>\u001b[39m\u001b[23m  \u001b[3m\u001b[90m<dbl>\u001b[39m\u001b[23m\n",
      "\u001b[90m 1\u001b[39m 2011-01-01         \u001b[4m2\u001b[24m\u001b[4m6\u001b[24m921.          \u001b[4m4\u001b[24m632.    122 0.172 \n",
      "\u001b[90m 2\u001b[39m 2011-02-01         \u001b[4m2\u001b[24m\u001b[4m3\u001b[24m604.          \u001b[4m4\u001b[24m376.    111 0.185 \n",
      "\u001b[90m 3\u001b[39m 2011-03-01         \u001b[4m8\u001b[24m\u001b[4m2\u001b[24m024.          \u001b[4m6\u001b[24m185.    254 0.075\u001b[4m4\u001b[24m\n",
      "\u001b[90m 4\u001b[39m 2011-04-01         \u001b[4m4\u001b[24m\u001b[4m9\u001b[24m002.          \u001b[4m8\u001b[24m024.    208 0.164 \n",
      "\u001b[90m 5\u001b[39m 2011-05-01         \u001b[4m5\u001b[24m\u001b[4m4\u001b[24m993.          \u001b[4m7\u001b[24m309.    221 0.133 \n",
      "\u001b[90m 6\u001b[39m 2011-06-01         \u001b[4m8\u001b[24m\u001b[4m8\u001b[24m031.         \u001b[4m1\u001b[24m\u001b[4m4\u001b[24m625.    285 0.166 \n",
      "\u001b[90m 7\u001b[39m 2011-07-01         \u001b[4m5\u001b[24m\u001b[4m1\u001b[24m411.           983.    202 0.019\u001b[4m1\u001b[24m\n",
      "\u001b[90m 8\u001b[39m 2011-08-01         \u001b[4m8\u001b[24m\u001b[4m4\u001b[24m874.         \u001b[4m1\u001b[24m\u001b[4m4\u001b[24m635.    320 0.172 \n",
      "\u001b[90m 9\u001b[39m 2011-09-01        \u001b[4m1\u001b[24m\u001b[4m4\u001b[24m\u001b[4m6\u001b[24m603.         \u001b[4m1\u001b[24m\u001b[4m9\u001b[24m598.    460 0.134 \n",
      "\u001b[90m10\u001b[39m 2011-10-01         \u001b[4m8\u001b[24m\u001b[4m8\u001b[24m578.         \u001b[4m1\u001b[24m\u001b[4m4\u001b[24m056.    318 0.159 \n",
      "\u001b[90m# ℹ 38 more rows\u001b[39m\n"
     ]
    },
    {
     "data": {
      "image/png": "[encoded data removed]",
      "text/plain": [
       "plot without title"
      ]
     },
     "metadata": {
      "image/png": {
       "height": 420,
       "width": 420
      }
     },
     "output_type": "display_data"
    }
   ],
   "source": [
    "# Combine with margin data\n",
    "monthly_margin <- gsd2 %>%\n",
    "  group_by(Order_Month) %>%\n",
    "  summarise(\n",
    "    Monthly_Sales = sum(Sales),\n",
    "    Monthly_Profit = sum(Profit),\n",
    "    Orders = n(),\n",
    "    Margin = Monthly_Profit / Monthly_Sales\n",
    "  ) %>%\n",
    "  arrange(Order_Month)\n",
    "\n",
    "# Display summary table\n",
    "print(monthly_margin)\n",
    "\n",
    "# Plot with overlaid lines\n",
    "ggplot(monthly_margin, aes(x = Order_Month)) +\n",
    "  geom_line(aes(y = Margin, color = \"Profit Margin\"), size = 1) +\n",
    "  geom_line(aes(y = Orders / max(Orders), color = \"Order Volume (scaled)\"), size = 1, linetype = \"dashed\") +\n",
    "  scale_y_continuous(labels = percent_format(), sec.axis = sec_axis(~ . * max(monthly_margin$Orders), name = \"Orders\")) +\n",
    "  scale_x_date(date_labels = \"%Y-%m\", date_breaks = \"3 months\") +\n",
    "  labs(title = \"Monthly Profit Margin and Order Volume\",\n",
    "       x = \"Month\",\n",
    "       y = \"Profit Margin\",\n",
    "       color = \"\") +\n",
    "  theme_minimal() +\n",
    "  theme(axis.text.x = element_text(angle = 45, hjust = 1))"
   ]
  },
  {
   "cell_type": "code",
   "execution_count": 29,
   "id": "21d7bc09",
   "metadata": {
    "vscode": {
     "languageId": "r"
    }
   },
   "outputs": [
    {
     "data": {
      "image/png": "[encoded data removed]",
      "text/plain": [
       "plot without title"
      ]
     },
     "metadata": {
      "image/png": {
       "height": 420,
       "width": 420
      }
     },
     "output_type": "display_data"
    }
   ],
   "source": [
    "monthly_margin <- gsd2 %>%\n",
    "  group_by(Order_Month) %>%\n",
    "  summarise(\n",
    "    Monthly_Sales = sum(Sales),\n",
    "    Monthly_Profit = sum(Profit),\n",
    "    Margin = Monthly_Profit / Monthly_Sales\n",
    "  )\n",
    "\n",
    "ggplot(monthly_margin, aes(x = Order_Month, y = Margin)) +\n",
    "  geom_line(color = \"darkorange\") +\n",
    "  labs(title = \"Monthly Profit Margin Trend\", y = \"Profit Margin\")"
   ]
  },
  {
   "cell_type": "markdown",
   "id": "ae4bc781",
   "metadata": {},
   "source": [
    "### v. ✍️ Insights & Recommendations"
   ]
  },
  {
   "cell_type": "markdown",
   "id": "66968ead",
   "metadata": {},
   "source": [
    "![image](images/image4.png)"
   ]
  },
  {
   "cell_type": "code",
   "execution_count": null,
   "id": "aff3f57d",
   "metadata": {
    "vscode": {
     "languageId": "r"
    }
   },
   "outputs": [
    {
     "name": "stderr",
     "output_type": "stream",
     "text": [
      "\u001b[1m\u001b[22mSaving 7 x 7 in image\n"
     ]
    }
   ],
   "source": [
    "# ggsave(\"monthly_orders.png\") # to export charts"
   ]
  }
 ],
 "metadata": {
  "kernelspec": {
   "display_name": "R",
   "language": "R",
   "name": "ir"
  },
  "language_info": {
   "codemirror_mode": "r",
   "file_extension": ".r",
   "mimetype": "text/x-r-source",
   "name": "R",
   "pygments_lexer": "r",
   "version": "4.3.3"
  }
 },
 "nbformat": 4,
 "nbformat_minor": 5
}
